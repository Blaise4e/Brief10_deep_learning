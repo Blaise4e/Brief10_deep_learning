{
  "nbformat": 4,
  "nbformat_minor": 0,
  "metadata": {
    "colab": {
      "name": "brief10_1.ipynb",
      "provenance": [],
      "collapsed_sections": []
    },
    "kernelspec": {
      "name": "python3",
      "display_name": "Python 3"
    },
    "language_info": {
      "name": "python"
    }
  },
  "cells": [
    {
      "cell_type": "code",
      "metadata": {
        "id": "QrQj6GKTADlS"
      },
      "source": [
        "import numpy as np"
      ],
      "execution_count": 60,
      "outputs": []
    },
    {
      "cell_type": "code",
      "metadata": {
        "id": "tLFxC0iPAZdX"
      },
      "source": [
        "X = [1, -3.1, -7.2, 2.1]"
      ],
      "execution_count": 7,
      "outputs": []
    },
    {
      "cell_type": "code",
      "metadata": {
        "id": "Sc4I8o3o2Hvu"
      },
      "source": [
        "def lin_reg1(X):\n",
        "  w= [2.1, 1.2, 0.3, 1.3]\n",
        "  b= -3\n",
        "  r= b\n",
        "  for i,j in zip(X,w):\n",
        "    r = r + i*j\n",
        "  return r\n",
        "\n",
        "def lin_reg2(X):\n",
        "  w= [0.1, 1.2, 4.9, 3.1]\n",
        "  b= -5\n",
        "  r= b\n",
        "  for i,j in zip(X,w):\n",
        "    r = r + i*j\n",
        "  return r\n",
        "\n",
        "def lin_reg3(X):\n",
        "  w= [0.4, 2.6, 2.5, 3.8]\n",
        "  b= -8\n",
        "  r= b\n",
        "  for i,j in zip(X,w):\n",
        "    r = r + i*j\n",
        "  return r\n"
      ],
      "execution_count": 53,
      "outputs": []
    },
    {
      "cell_type": "code",
      "metadata": {
        "colab": {
          "base_uri": "https://localhost:8080/"
        },
        "id": "JxbV2pB339ex",
        "outputId": "33e0aa30-c3dc-4ec8-8a51-f5454b41d589"
      },
      "source": [
        "lin_reg1(X)"
      ],
      "execution_count": 35,
      "outputs": [
        {
          "output_type": "execute_result",
          "data": {
            "text/plain": [
              "-4.049999999999999"
            ]
          },
          "metadata": {},
          "execution_count": 35
        }
      ]
    },
    {
      "cell_type": "code",
      "metadata": {
        "id": "j9ABKUEh55AO"
      },
      "source": [
        "def activation(X):\n",
        "  output = 0\n",
        "  if X>0 :\n",
        "    output = X\n",
        "  else :\n",
        "    output = 0\n",
        "  return output"
      ],
      "execution_count": 43,
      "outputs": []
    },
    {
      "cell_type": "code",
      "metadata": {
        "colab": {
          "base_uri": "https://localhost:8080/"
        },
        "id": "BrB2qMsQ6zHm",
        "outputId": "2d9a3000-30a2-4539-dd0b-e4d1da25b9fc"
      },
      "source": [
        "out_1 = activation(lin_reg1(X))\n",
        "out_1"
      ],
      "execution_count": 45,
      "outputs": [
        {
          "output_type": "execute_result",
          "data": {
            "text/plain": [
              "0"
            ]
          },
          "metadata": {},
          "execution_count": 45
        }
      ]
    },
    {
      "cell_type": "code",
      "metadata": {
        "colab": {
          "base_uri": "https://localhost:8080/"
        },
        "id": "v_-FYdAY9EJU",
        "outputId": "1a4113d6-2060-4d51-b6cf-ffc8257a1b96"
      },
      "source": [
        "out_2 = activation(lin_reg2(X))\n",
        "out_3 = activation(lin_reg3(X))\n",
        "out_2, out_3"
      ],
      "execution_count": 56,
      "outputs": [
        {
          "output_type": "execute_result",
          "data": {
            "text/plain": [
              "(0, 0)"
            ]
          },
          "metadata": {},
          "execution_count": 56
        }
      ]
    },
    {
      "cell_type": "code",
      "metadata": {
        "id": "HHK7nYXD9dIc"
      },
      "source": [
        "def linreg_next_layer(X):\n",
        "  w= [1.1, -4.1, 0.7]\n",
        "  b= 5.1\n",
        "  r= b\n",
        "  for i,j in zip(X,w):\n",
        "    r = r + i*j\n",
        "  return r\n"
      ],
      "execution_count": 57,
      "outputs": []
    },
    {
      "cell_type": "code",
      "metadata": {
        "id": "Ztiq--OY_Sn3"
      },
      "source": [
        "def sigmoide(X):\n",
        "  return 1/( 1 + np.exp(-X) )"
      ],
      "execution_count": 64,
      "outputs": []
    },
    {
      "cell_type": "code",
      "metadata": {
        "colab": {
          "base_uri": "https://localhost:8080/"
        },
        "id": "siIitUxH_3ol",
        "outputId": "8f602013-b019-4d0d-b635-1e5dc6fa5ffd"
      },
      "source": [
        "X = [out_1, out_2, out_3]\n",
        "sigmoide(linreg_next_layer(X))"
      ],
      "execution_count": 65,
      "outputs": [
        {
          "output_type": "execute_result",
          "data": {
            "text/plain": [
              "0.9939401985084158"
            ]
          },
          "metadata": {},
          "execution_count": 65
        }
      ]
    }
  ]
}